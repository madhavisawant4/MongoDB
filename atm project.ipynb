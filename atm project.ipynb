{
 "cells": [
  {
   "cell_type": "markdown",
   "metadata": {},
   "source": [
    "# Register\n"
   ]
  },
  {
   "cell_type": "code",
   "execution_count": 1,
   "metadata": {},
   "outputs": [],
   "source": [
    "def registrartion():\n",
    "    while True:\n",
    "        fname=input(\"Enter your first name: \")\n",
    "        lname=input(\"Enter your last name: \")\n",
    "        city=input(\"Enter your city: \")\n",
    "        import random\n",
    "        account_number=random.randint(1111110000,1111119999)\n",
    "        username=input(\"Enter your username: \")\n",
    "        a=collection.find()\n",
    "        for i in a:\n",
    "            if i.get(\"Username\")==username:\n",
    "                print(\"Username already exist!!\")\n",
    "                break\n",
    "            else:\n",
    "                continue\n",
    "        import getpass\n",
    "        password1=getpass.getpass(\"Enter your Password: \")\n",
    "        password2=getpass.getpass(\"Enter your password again: \")\n",
    "        if password1==password2:\n",
    "            print(\"confirmed\")\n",
    "            amount=float(input(\"Enter your amount(min 4000): \"))\n",
    "            if amount>=4000:\n",
    "                print(\"Done\")\n",
    "                data={\"First Name\":fname,\"Last Name\":lname,\"city\":city,\"Account number\":account_number,\"Username\":username,\"password\":password1,\"Amount\":amount}\n",
    "                collection.insert_one(data)\n",
    "                print(\"registration successfull,welcome to ABC bank!!\")\n",
    "                break\n",
    "            else:\n",
    "                print(\"Unsufficient balance please deposite atleast 4000rs\")\n",
    "        else:\n",
    "            print(\"password not matched!!!\")\n"
   ]
  },
  {
   "cell_type": "markdown",
   "metadata": {},
   "source": [
    "# login"
   ]
  },
  {
   "cell_type": "code",
   "execution_count": 11,
   "metadata": {},
   "outputs": [],
   "source": [
    "def login():\n",
    "    global rt1,rt2,users\n",
    "    rt1 = \"\"\n",
    "    rt1 = \"\"\n",
    "    count = 4\n",
    "    users = [list(collection.find())[i][\"Username\"] for i in range(len(list(collection.find())))]\n",
    "    while True:\n",
    "        user = input(\"Enter your username: \")\n",
    "        if user in users:\n",
    "            passwd = input(\"Enter your password: \")\n",
    "            ind = users.index(user)\n",
    "\n",
    "            if passwd == list(collection.find())[ind][\"password\"]:\n",
    "                print(\"Login Succussfully!!!!!\")\n",
    "                rt1 = \"done\"\n",
    "                rt2 = user\n",
    "                break\n",
    "                \n",
    "            elif count==0:\n",
    "                print(\"Account is blocked for 24hrs \")\n",
    "                break\n",
    "            else:\n",
    "                print(\"Wrong password: !!!!!\")\n",
    "                count-=1\n",
    "                print(\"Please try again........, Remaining attempts: \",count)\n",
    "\n",
    "        elif count==0:\n",
    "            print(\"Account is blocked for 24hrs \")\n",
    "            break\n",
    "        else:\n",
    "            print(\"Wrong username!!!!\")\n",
    "            count-=1\n",
    "            print(\"Please try again........Remaining attempts: \",count)\n",
    "    \n",
    "                           "
   ]
  },
  {
   "cell_type": "markdown",
   "metadata": {},
   "source": [
    "# show details"
   ]
  },
  {
   "cell_type": "code",
   "execution_count": 7,
   "metadata": {},
   "outputs": [],
   "source": [
    "def show_details(us):\n",
    "    ind = users.index(us)\n",
    "    amt = list(collection.find())[ind][\"Amount\"]\n",
    "    fname = list(collection.find())[ind][\"First Name\"]\n",
    "    lname = list(collection.find())[ind][\"Last Name\"]\n",
    "    acc_no = list(collection.find())[ind][\"Account number\"]\n",
    "\n",
    "\n",
    "    print(\"---------------- Account Details ---------------\")\n",
    "    print(\"Name: \",fname,lname)\n",
    "    print(\"Account Number: \",acc_no)\n",
    "    print(\"Balance: \",amt)\n"
   ]
  },
  {
   "cell_type": "markdown",
   "metadata": {},
   "source": [
    "# withdraw Amount"
   ]
  },
  {
   "cell_type": "code",
   "execution_count": 4,
   "metadata": {},
   "outputs": [],
   "source": [
    "def withdrow(us):\n",
    "    ind = users.index(us)\n",
    "    amt = list(collection.find())[ind][\"Amount\"]\n",
    "    fname = list(collection.find())[ind][\"First Name\"]\n",
    "\n",
    "    \n",
    "\n",
    "    while True:\n",
    "        bal = int(input(\"Enter your withdrown amount: \"))\n",
    "        if bal%100==0:\n",
    "            if bal<amt:\n",
    "                amt = amt-bal\n",
    "\n",
    "\n",
    "                collection.update_one({\"Username\":us},{\"$set\":{\"Amount\":amt}})\n",
    "\n",
    "                print(\"Withdrown successfully!!!\")\n",
    "\n",
    "                amt = list(collection.find())[ind][\"Amount\"]\n",
    "\n",
    "                print(\"Remaining Amount: \",amt)\n",
    "                break\n",
    "\n",
    "            else:\n",
    "                print(\"Unsufficient balance\")\n",
    "                \n",
    "\n",
    "        else:\n",
    "            print(\"Please put multiples of 100 Rs, 500Rs, 2000Rs\")"
   ]
  },
  {
   "cell_type": "markdown",
   "metadata": {},
   "source": [
    "# Deposite Money"
   ]
  },
  {
   "cell_type": "code",
   "execution_count": 8,
   "metadata": {},
   "outputs": [],
   "source": [
    "def deposite(us):\n",
    "    ind = users.index(us)\n",
    "    amt = list(collection.find())[ind][\"Amount\"]\n",
    "    fname = list(collection.find())[ind][\"First Name\"]\n",
    "\n",
    "    \n",
    "\n",
    "    while True:\n",
    "        bal = int(input(\"Enter your Deplosite amount: \"))\n",
    "        if bal%100==0:\n",
    "            amt = amt+bal\n",
    "\n",
    "\n",
    "            collection.update_one({\"Username\":us},{\"$set\":{\"Amount\":amt}})\n",
    "\n",
    "            print(\"Withdrown successfully!!!\")\n",
    "\n",
    "            amt = list(collection.find())[ind][\"Amount\"]\n",
    "\n",
    "            print(\"Remaining Amount: \",amt)\n",
    "            break\n",
    "\n",
    "        else:\n",
    "            print(\"Please put multiples of 100 Rs, 500Rs, 2000Rs\")"
   ]
  },
  {
   "cell_type": "markdown",
   "metadata": {},
   "source": [
    "# Main Page"
   ]
  },
  {
   "cell_type": "code",
   "execution_count": 16,
   "metadata": {},
   "outputs": [
    {
     "name": "stdout",
     "output_type": "stream",
     "text": [
      "Connection Established\n",
      "------------ Welcome to ABC bank -----------------\n",
      "Please choose it :) \n",
      "1) Open Account \n",
      "2) Existing Account\n",
      "2\n",
      "Enter your username: madhavi123\n",
      "Enter your password: madhavi@123\n",
      "Login Succussfully!!!!!\n",
      "Please choose it :) \n",
      "1) Check account detail \n",
      "2) Withdrow Money \n",
      "3) Deposite Money\n",
      "3\n",
      "Enter your Deplosite amount: 2000\n",
      "Withdrown successfully!!!\n",
      "Remaining Amount:  45600.0\n"
     ]
    }
   ],
   "source": [
    "import pymongo\n",
    "connect = pymongo.MongoClient(host=\"localhost\",port=27017)\n",
    "print(\"Connection Established\")\n",
    "\n",
    "\n",
    "database = connect[\"Banking\"]\n",
    "collection = database[\"saving\"]\n",
    "\n",
    "print(\"------------ Welcome to ABC bank -----------------\")\n",
    "\n",
    "ask = input(\"Please choose it :) \\n1) Open Account \\n2) Existing Account\\n\")\n",
    "\n",
    "if ask==\"1\":\n",
    "    registrartion()\n",
    "\n",
    "elif ask==\"2\":\n",
    "    login()\n",
    "    \n",
    "    if rt1==\"done\":\n",
    "        ask2 = input(\"Please choose it :) \\n1) Check account detail \\n2) Withdrow Money \\n3) Deposite Money\\n\")\n",
    "        if ask2==\"1\":\n",
    "            show_details(rt2)\n",
    "        elif ask2==\"2\":\n",
    "            withdrow(rt2)\n",
    "        elif ask2==\"3\":\n",
    "            deposite(rt2)\n",
    "            \n",
    "        else:\n",
    "            print(\"Plase select 1 - 3\")\n",
    "            \n",
    "    else:\n",
    "        print(\"Wrong login credentials!!!!\")\n",
    "    \n",
    "    \n",
    "else:\n",
    "    print(\"Invalid!!!\")"
   ]
  },
  {
   "cell_type": "code",
   "execution_count": null,
   "metadata": {},
   "outputs": [],
   "source": [
    "\n"
   ]
  },
  {
   "cell_type": "code",
   "execution_count": null,
   "metadata": {},
   "outputs": [],
   "source": []
  }
 ],
 "metadata": {
  "kernelspec": {
   "display_name": "Python 3",
   "language": "python",
   "name": "python3"
  },
  "language_info": {
   "codemirror_mode": {
    "name": "ipython",
    "version": 3
   },
   "file_extension": ".py",
   "mimetype": "text/x-python",
   "name": "python",
   "nbconvert_exporter": "python",
   "pygments_lexer": "ipython3",
   "version": "3.8.5"
  }
 },
 "nbformat": 4,
 "nbformat_minor": 4
}
